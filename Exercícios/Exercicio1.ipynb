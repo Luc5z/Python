{
 "cells": [
  {
   "cell_type": "markdown",
   "metadata": {},
   "source": [
    "  Escreva um algoritmo que receba o salário de um funcionário, calcule e imprima \n",
    " o valor do imposto de renda a ser pago, sabendo que o imposto equivale a 5% do \n",
    " salário."
   ]
  },
  {
   "cell_type": "code",
   "execution_count": 3,
   "metadata": {},
   "outputs": [
    {
     "name": "stdout",
     "output_type": "stream",
     "text": [
      "Seu salário com o imposto de renda deduzido é: 950.0\n"
     ]
    }
   ],
   "source": [
    "salario = float(input('Qual é o seu salário? '))\n",
    "\n",
    "imposto =  5/100 * salario\n",
    "\n",
    "print(\"Seu salário com o imposto de renda deduzido é:\", salario - imposto)"
   ]
  },
  {
   "cell_type": "markdown",
   "metadata": {},
   "source": [
    "Escreva um algoritmo que receba 4 números e apresente o somatório deles."
   ]
  },
  {
   "cell_type": "code",
   "execution_count": 5,
   "metadata": {},
   "outputs": [
    {
     "name": "stdout",
     "output_type": "stream",
     "text": [
      "4\n"
     ]
    }
   ],
   "source": [
    "numero1 = int(input('Digite um primeiro número: '))\n",
    "numero2 = int(input('Digite um segundo número: '))\n",
    "numero3 = int(input('Digite um terceiro número: '))\n",
    "numero4 = int(input('Digite um quarto número: '))\n",
    "\n",
    "soma = numero1 + numero2 + numero3 + numero4\n",
    "\n",
    "print(soma)"
   ]
  }
 ],
 "metadata": {
  "kernelspec": {
   "display_name": "base",
   "language": "python",
   "name": "python3"
  },
  "language_info": {
   "codemirror_mode": {
    "name": "ipython",
    "version": 3
   },
   "file_extension": ".py",
   "mimetype": "text/x-python",
   "name": "python",
   "nbconvert_exporter": "python",
   "pygments_lexer": "ipython3",
   "version": "3.11.5"
  }
 },
 "nbformat": 4,
 "nbformat_minor": 2
}
